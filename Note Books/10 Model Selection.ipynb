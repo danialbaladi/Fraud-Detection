{
 "cells": [
  {
   "cell_type": "code",
   "execution_count": 10,
   "id": "152d5735-c838-4791-9da1-58d280423769",
   "metadata": {},
   "outputs": [],
   "source": [
    "# Load train and validation sets\n",
    "# Import baseline models and metrics\n",
    "import pandas as pd\n",
    "from sklearn.linear_model import LogisticRegression\n",
    "from sklearn.tree import DecisionTreeClassifier\n",
    "from sklearn.naive_bayes import GaussianNB\n",
    "from sklearn.metrics import accuracy_score, f1_score\n",
    "\n",
    "\n",
    "train = pd.read_csv('/home/danial/Data Science/Fraud Detection/Data/splits/train.csv')\n",
    "val = pd.read_csv('/home/danial/Data Science/Fraud Detection/Data/splits/validation.csv')\n",
    "\n",
    "X_train = train.drop('Class', axis=1)\n",
    "y_train = train['Class']\n",
    "X_val = val.drop('Class', axis=1)\n",
    "y_val = val['Class']\n"
   ]
  },
  {
   "cell_type": "code",
   "execution_count": 11,
   "id": "19609a6d-4a75-45db-a7b3-543bc18b38e4",
   "metadata": {},
   "outputs": [
    {
     "name": "stdout",
     "output_type": "stream",
     "text": [
      "Logistic Regression - Accuracy: 0.9991, F1-Score: 0.7200\n"
     ]
    }
   ],
   "source": [
    "# Train and evaluate Logistic Regression\n",
    "lr = LogisticRegression(max_iter=1000, random_state=42)\n",
    "lr.fit(X_train, y_train)\n",
    "y_val_pred_lr = lr.predict(X_val)\n",
    "\n",
    "lr_acc = accuracy_score(y_val, y_val_pred_lr)\n",
    "lr_f1 = f1_score(y_val, y_val_pred_lr)\n",
    "\n",
    "print(f\"Logistic Regression - Accuracy: {lr_acc:.4f}, F1-Score: {lr_f1:.4f}\")\n"
   ]
  },
  {
   "cell_type": "code",
   "execution_count": 12,
   "id": "342ed922-0ca3-4f43-b180-c0c23781e649",
   "metadata": {},
   "outputs": [
    {
     "name": "stdout",
     "output_type": "stream",
     "text": [
      "Decision Tree - Accuracy: 0.9992, F1-Score: 0.7746\n"
     ]
    }
   ],
   "source": [
    "# Train and evaluate Decision Tree\n",
    "dt = DecisionTreeClassifier(random_state=42)\n",
    "dt.fit(X_train, y_train)\n",
    "y_val_pred_dt = dt.predict(X_val)\n",
    "\n",
    "dt_acc = accuracy_score(y_val, y_val_pred_dt)\n",
    "dt_f1 = f1_score(y_val, y_val_pred_dt)\n",
    "\n",
    "print(f\"Decision Tree - Accuracy: {dt_acc:.4f}, F1-Score: {dt_f1:.4f}\")\n"
   ]
  },
  {
   "cell_type": "code",
   "execution_count": 13,
   "id": "05edd8a3-6dd3-45e4-99e7-308d8605a29a",
   "metadata": {},
   "outputs": [
    {
     "name": "stdout",
     "output_type": "stream",
     "text": [
      "Naive Bayes - Accuracy: 0.9779, F1-Score: 0.1227\n"
     ]
    }
   ],
   "source": [
    "# Train and evaluate Gaussian Naive Bayes\n",
    "nb = GaussianNB()\n",
    "nb.fit(X_train, y_train)\n",
    "y_val_pred_nb = nb.predict(X_val)\n",
    "\n",
    "nb_acc = accuracy_score(y_val, y_val_pred_nb)\n",
    "nb_f1 = f1_score(y_val, y_val_pred_nb)\n",
    "\n",
    "print(f\"Naive Bayes - Accuracy: {nb_acc:.4f}, F1-Score: {nb_f1:.4f}\")\n"
   ]
  },
  {
   "cell_type": "code",
   "execution_count": 14,
   "id": "5f1072f6-7c7e-47b1-ba69-c40ebca47b97",
   "metadata": {},
   "outputs": [
    {
     "name": "stdout",
     "output_type": "stream",
     "text": [
      "Logistic Regression: Accuracy=0.9991, F1-Score=0.7200\n",
      "Decision Tree: Accuracy=0.9992, F1-Score=0.7746\n",
      "Naive Bayes: Accuracy=0.9779, F1-Score=0.1227\n",
      "\n",
      "Selected initial candidate model: Decision Tree\n"
     ]
    }
   ],
   "source": [
    "# Compare model performances and select initial candidate\n",
    "results = {\n",
    "    \"Logistic Regression\": {\"Accuracy\": lr_acc, \"F1-Score\": lr_f1},\n",
    "    \"Decision Tree\": {\"Accuracy\": dt_acc, \"F1-Score\": dt_f1},\n",
    "    \"Naive Bayes\": {\"Accuracy\": nb_acc, \"F1-Score\": nb_f1}\n",
    "}\n",
    "\n",
    "for model, scores in results.items():\n",
    "    print(f\"{model}: Accuracy={scores['Accuracy']:.4f}, F1-Score={scores['F1-Score']:.4f}\")\n",
    "\n",
    "best_model = max(results, key=lambda m: results[m]['F1-Score'])\n",
    "print(f\"\\nSelected initial candidate model: {best_model}\")\n"
   ]
  },
  {
   "cell_type": "code",
   "execution_count": null,
   "id": "ce3ac176-9fbd-4291-82db-66d15d922528",
   "metadata": {},
   "outputs": [],
   "source": []
  }
 ],
 "metadata": {
  "kernelspec": {
   "display_name": "Python (FDenv)",
   "language": "python",
   "name": "cpenv"
  },
  "language_info": {
   "codemirror_mode": {
    "name": "ipython",
    "version": 3
   },
   "file_extension": ".py",
   "mimetype": "text/x-python",
   "name": "python",
   "nbconvert_exporter": "python",
   "pygments_lexer": "ipython3",
   "version": "3.12.3"
  }
 },
 "nbformat": 4,
 "nbformat_minor": 5
}
