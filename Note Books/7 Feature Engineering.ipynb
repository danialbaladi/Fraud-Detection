{
 "cells": [
  {
   "cell_type": "code",
   "execution_count": 2,
   "id": "38bb7e10-3979-40ab-8dee-2110d3342c9b",
   "metadata": {},
   "outputs": [
    {
     "name": "stdout",
     "output_type": "stream",
     "text": [
      "<class 'pandas.core.frame.DataFrame'>\n",
      "RangeIndex: 283017 entries, 0 to 283016\n",
      "Data columns (total 31 columns):\n",
      " #   Column  Non-Null Count   Dtype  \n",
      "---  ------  --------------   -----  \n",
      " 0   Time    283017 non-null  float64\n",
      " 1   V1      283017 non-null  float64\n",
      " 2   V2      283017 non-null  float64\n",
      " 3   V3      283017 non-null  float64\n",
      " 4   V4      283017 non-null  float64\n",
      " 5   V5      283017 non-null  float64\n",
      " 6   V6      283017 non-null  float64\n",
      " 7   V7      283017 non-null  float64\n",
      " 8   V8      283017 non-null  float64\n",
      " 9   V9      283017 non-null  float64\n",
      " 10  V10     283017 non-null  float64\n",
      " 11  V11     283017 non-null  float64\n",
      " 12  V12     283017 non-null  float64\n",
      " 13  V13     283017 non-null  float64\n",
      " 14  V14     283017 non-null  float64\n",
      " 15  V15     283017 non-null  float64\n",
      " 16  V16     283017 non-null  float64\n",
      " 17  V17     283017 non-null  float64\n",
      " 18  V18     283017 non-null  float64\n",
      " 19  V19     283017 non-null  float64\n",
      " 20  V20     283017 non-null  float64\n",
      " 21  V21     283017 non-null  float64\n",
      " 22  V22     283017 non-null  float64\n",
      " 23  V23     283017 non-null  float64\n",
      " 24  V24     283017 non-null  float64\n",
      " 25  V25     283017 non-null  float64\n",
      " 26  V26     283017 non-null  float64\n",
      " 27  V27     283017 non-null  float64\n",
      " 28  V28     283017 non-null  float64\n",
      " 29  Amount  283017 non-null  float64\n",
      " 30  Class   283017 non-null  int64  \n",
      "dtypes: float64(30), int64(1)\n",
      "memory usage: 66.9 MB\n"
     ]
    }
   ],
   "source": [
    "import pandas as pd\n",
    "import numpy as np\n",
    "\n",
    "\n",
    "\n",
    "data_path = \"/home/danial/Data Science/Fraud Detection/Data/cleaned/creditcard_cleaned.csv\"\n",
    "df = pd.read_csv(data_path)\n",
    "\n",
    "df.info()"
   ]
  },
  {
   "cell_type": "code",
   "execution_count": 3,
   "id": "92eae2be-c26a-4594-a3d4-582859f4abe1",
   "metadata": {},
   "outputs": [],
   "source": [
    "# The 'Time' column is in seconds since the first transaction\n",
    "# Convert it to hours and days for better patterns\n",
    "df['Hour'] = (df['Time'] // 3600) % 24   # Hour of day\n",
    "df['Day'] = df['Time'] // (3600 * 24)    # Day number since start\n",
    "\n",
    "# Create a feature for weekday/weekend\n",
    "df['Is_Weekend'] = df['Day'] % 7 >= 5"
   ]
  },
  {
   "cell_type": "code",
   "execution_count": 4,
   "id": "23136a2d-d177-4be4-a29b-b1e559533add",
   "metadata": {},
   "outputs": [],
   "source": [
    "# --- Cell 2: Create ratio or derived features ---\n",
    "# Log-transform the 'Amount' to reduce skewness\n",
    "df['Log_Amount'] = np.log1p(df['Amount'])\n",
    "\n",
    "# Example of normalization: amount per hour (relative spending pattern)\n",
    "df['Amount_per_Hour'] = df['Amount'] / (df['Hour'] + 1)  # +1 to avoid division by zero\n"
   ]
  },
  {
   "cell_type": "code",
   "execution_count": 5,
   "id": "d1a1d66b-1acc-42dc-b90c-876f27ef5f20",
   "metadata": {},
   "outputs": [],
   "source": [
    "# --- Cell 3: Compute group-based statistics ---\n",
    "# Calculate mean amount per day and map it back\n",
    "day_mean_amount = df.groupby('Day')['Amount'].transform('mean')\n",
    "df['Day_Amount_Diff'] = df['Amount'] - day_mean_amount\n"
   ]
  },
  {
   "cell_type": "code",
   "execution_count": 6,
   "id": "811ef1e8-9847-409a-ab88-a2c2f8cc33e5",
   "metadata": {},
   "outputs": [
    {
     "name": "stdout",
     "output_type": "stream",
     "text": [
      "   Time  Hour  Day  Is_Weekend  Amount  Log_Amount  Amount_per_Hour  \\\n",
      "0   0.0   0.0  0.0       False  149.62    5.014760           149.62   \n",
      "1   0.0   0.0  0.0       False    2.69    1.305626             2.69   \n",
      "2   1.0   0.0  0.0       False  378.66    5.939276           378.66   \n",
      "3   1.0   0.0  0.0       False  123.50    4.824306           123.50   \n",
      "4   2.0   0.0  0.0       False   69.99    4.262539            69.99   \n",
      "\n",
      "   Day_Amount_Diff  \n",
      "0        58.969206  \n",
      "1       -87.960794  \n",
      "2       288.009206  \n",
      "3        32.849206  \n",
      "4       -20.660794  \n"
     ]
    }
   ],
   "source": [
    "# --- Cell 4: Check new features ---\n",
    "print(df[['Time','Hour','Day','Is_Weekend','Amount','Log_Amount','Amount_per_Hour','Day_Amount_Diff']].head())\n"
   ]
  },
  {
   "cell_type": "code",
   "execution_count": 8,
   "id": "a316e7e9-d911-49b4-bf95-3583b9aea232",
   "metadata": {},
   "outputs": [],
   "source": [
    "# --- Cell 5: Save dataset with engineered features ---\n",
    "df.to_csv('/home/danial/Data Science/Fraud Detection/Data/featured/featured.csv' , index=False)"
   ]
  },
  {
   "cell_type": "code",
   "execution_count": null,
   "id": "59fd8dae-cf30-46cf-a58f-8675c6985f2e",
   "metadata": {},
   "outputs": [],
   "source": []
  }
 ],
 "metadata": {
  "kernelspec": {
   "display_name": "Python (FDenv)",
   "language": "python",
   "name": "cpenv"
  },
  "language_info": {
   "codemirror_mode": {
    "name": "ipython",
    "version": 3
   },
   "file_extension": ".py",
   "mimetype": "text/x-python",
   "name": "python",
   "nbconvert_exporter": "python",
   "pygments_lexer": "ipython3",
   "version": "3.12.3"
  }
 },
 "nbformat": 4,
 "nbformat_minor": 5
}
