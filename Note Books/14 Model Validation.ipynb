{
 "cells": [
  {
   "cell_type": "code",
   "execution_count": 1,
   "id": "f4bbe4ab-28df-4f90-acb6-9c2256bd0616",
   "metadata": {},
   "outputs": [],
   "source": [
    "\n",
    "import pandas as pd\n",
    "import numpy as np\n",
    "from sklearn.model_selection import StratifiedKFold, cross_val_score\n",
    "from sklearn.metrics import accuracy_score, f1_score\n",
    "import joblib\n",
    "\n",
    "# Load saved pipelines\n",
    "lr_pipeline = joblib.load('/home/danial/Data Science/Fraud Detection/Models/lr_pipeline.pkl')\n",
    "dt_pipeline = joblib.load('/home/danial/Data Science/Fraud Detection/Models/dt_pipeline.pkl')\n",
    "\n",
    "# Load train data\n",
    "train_df = pd.read_csv('/home/danial/Data Science/Fraud Detection/Data/splits/train.csv')\n",
    "\n",
    "# Separate features and target\n",
    "X_train = train_df.drop('Class', axis=1)\n",
    "y_train = train_df['Class']\n"
   ]
  },
  {
   "cell_type": "code",
   "execution_count": 2,
   "id": "26936169-c737-4580-9569-3074fd738b59",
   "metadata": {},
   "outputs": [],
   "source": [
    "# Stratified K-Fold setup\n",
    "skf = StratifiedKFold(n_splits=5, shuffle=True, random_state=42)\n"
   ]
  },
  {
   "cell_type": "code",
   "execution_count": 3,
   "id": "da9b887d-d4a4-44ff-a069-5e5803ccacd2",
   "metadata": {},
   "outputs": [
    {
     "name": "stdout",
     "output_type": "stream",
     "text": [
      "Logistic Regression CV F1 scores: [0.796875   0.75555556 0.74193548 0.8        0.77862595]\n",
      "Mean F1: 0.7745983987249992\n",
      "Std F1: 0.022747331261179355\n"
     ]
    }
   ],
   "source": [
    "# Cross Validation F1 for Logistic Regression\n",
    "lr_f1_scores = cross_val_score(lr_pipeline, X_train, y_train, cv=skf, scoring='f1', n_jobs=-1)\n",
    "print(\"Logistic Regression CV F1 scores:\", lr_f1_scores)\n",
    "print(\"Mean F1:\", lr_f1_scores.mean())\n",
    "print(\"Std F1:\", lr_f1_scores.std())\n"
   ]
  },
  {
   "cell_type": "code",
   "execution_count": 4,
   "id": "aefbe18d-6f40-4c92-9815-3a378973371f",
   "metadata": {},
   "outputs": [
    {
     "name": "stdout",
     "output_type": "stream",
     "text": [
      "Decision Tree CV F1 scores: [0.80555556 0.76712329 0.76190476 0.77333333 0.81632653]\n",
      "Mean F1: 0.7848486938154258\n",
      "Std F1: 0.021876224052895164\n"
     ]
    }
   ],
   "source": [
    "# Cross Validation F1 for Decision Tree\n",
    "dt_f1_scores = cross_val_score(dt_pipeline, X_train, y_train, cv=skf, scoring='f1', n_jobs=-1)\n",
    "print(\"Decision Tree CV F1 scores:\", dt_f1_scores)\n",
    "print(\"Mean F1:\", dt_f1_scores.mean())\n",
    "print(\"Std F1:\", dt_f1_scores.std())\n"
   ]
  },
  {
   "cell_type": "code",
   "execution_count": 5,
   "id": "8c772b2a-7e00-4238-a4ec-252121689e9d",
   "metadata": {},
   "outputs": [
    {
     "name": "stdout",
     "output_type": "stream",
     "text": [
      "Summary:\n",
      "LR F1 mean ± std: 0.7746 ± 0.0227\n",
      "DT F1 mean ± std: 0.7848 ± 0.0219\n"
     ]
    }
   ],
   "source": [
    "print(\"Summary:\")\n",
    "print(\"LR F1 mean ± std:\", f\"{lr_f1_scores.mean():.4f} ± {lr_f1_scores.std():.4f}\")\n",
    "print(\"DT F1 mean ± std:\", f\"{dt_f1_scores.mean():.4f} ± {dt_f1_scores.std():.4f}\")\n"
   ]
  },
  {
   "cell_type": "code",
   "execution_count": null,
   "id": "d29e80b2-5d23-4f48-8584-199739424829",
   "metadata": {},
   "outputs": [],
   "source": []
  }
 ],
 "metadata": {
  "kernelspec": {
   "display_name": "Python (FDenv)",
   "language": "python",
   "name": "cpenv"
  },
  "language_info": {
   "codemirror_mode": {
    "name": "ipython",
    "version": 3
   },
   "file_extension": ".py",
   "mimetype": "text/x-python",
   "name": "python",
   "nbconvert_exporter": "python",
   "pygments_lexer": "ipython3",
   "version": "3.12.3"
  }
 },
 "nbformat": 4,
 "nbformat_minor": 5
}
