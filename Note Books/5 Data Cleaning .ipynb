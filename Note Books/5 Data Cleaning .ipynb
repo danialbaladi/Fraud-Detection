{
 "cells": [
  {
   "cell_type": "code",
   "execution_count": 1,
   "id": "e6d8ff37-92b6-47be-a3ff-5a9af80d3682",
   "metadata": {},
   "outputs": [
    {
     "name": "stdout",
     "output_type": "stream",
     "text": [
      "<class 'pandas.core.frame.DataFrame'>\n",
      "RangeIndex: 284807 entries, 0 to 284806\n",
      "Data columns (total 31 columns):\n",
      " #   Column  Non-Null Count   Dtype  \n",
      "---  ------  --------------   -----  \n",
      " 0   Time    284807 non-null  float64\n",
      " 1   V1      284807 non-null  float64\n",
      " 2   V2      284807 non-null  float64\n",
      " 3   V3      284807 non-null  float64\n",
      " 4   V4      284807 non-null  float64\n",
      " 5   V5      284807 non-null  float64\n",
      " 6   V6      284807 non-null  float64\n",
      " 7   V7      284807 non-null  float64\n",
      " 8   V8      284807 non-null  float64\n",
      " 9   V9      284807 non-null  float64\n",
      " 10  V10     284807 non-null  float64\n",
      " 11  V11     284807 non-null  float64\n",
      " 12  V12     284807 non-null  float64\n",
      " 13  V13     284807 non-null  float64\n",
      " 14  V14     284807 non-null  float64\n",
      " 15  V15     284807 non-null  float64\n",
      " 16  V16     284807 non-null  float64\n",
      " 17  V17     284807 non-null  float64\n",
      " 18  V18     284807 non-null  float64\n",
      " 19  V19     284807 non-null  float64\n",
      " 20  V20     284807 non-null  float64\n",
      " 21  V21     284807 non-null  float64\n",
      " 22  V22     284807 non-null  float64\n",
      " 23  V23     284807 non-null  float64\n",
      " 24  V24     284807 non-null  float64\n",
      " 25  V25     284807 non-null  float64\n",
      " 26  V26     284807 non-null  float64\n",
      " 27  V27     284807 non-null  float64\n",
      " 28  V28     284807 non-null  float64\n",
      " 29  Amount  284807 non-null  float64\n",
      " 30  Class   284807 non-null  int64  \n",
      "dtypes: float64(30), int64(1)\n",
      "memory usage: 67.4 MB\n"
     ]
    },
    {
     "data": {
      "text/plain": [
       "Time      0\n",
       "V1        0\n",
       "V2        0\n",
       "V3        0\n",
       "V4        0\n",
       "V5        0\n",
       "V6        0\n",
       "V7        0\n",
       "V8        0\n",
       "V9        0\n",
       "V10       0\n",
       "V11       0\n",
       "V12       0\n",
       "V13       0\n",
       "V14       0\n",
       "V15       0\n",
       "V16       0\n",
       "V17       0\n",
       "V18       0\n",
       "V19       0\n",
       "V20       0\n",
       "V21       0\n",
       "V22       0\n",
       "V23       0\n",
       "V24       0\n",
       "V25       0\n",
       "V26       0\n",
       "V27       0\n",
       "V28       0\n",
       "Amount    0\n",
       "Class     0\n",
       "dtype: int64"
      ]
     },
     "execution_count": 1,
     "metadata": {},
     "output_type": "execute_result"
    }
   ],
   "source": [
    "import pandas as pd\n",
    "\n",
    "\n",
    "data_path = \"/home/danial/Data Science/Fraud Detection/Data/raw/creditcard.csv\"\n",
    "df = pd.read_csv(data_path)\n",
    "\n",
    "df.info()\n",
    "df.isnull().sum()"
   ]
  },
  {
   "cell_type": "code",
   "execution_count": 7,
   "id": "7ff4791c-79f6-4fa1-b2fa-c7f1f408e77d",
   "metadata": {},
   "outputs": [
    {
     "name": "stdout",
     "output_type": "stream",
     "text": [
      "Number of duplicate rows: 1081\n"
     ]
    }
   ],
   "source": [
    "# --- Cell 3: Remove duplicate records ---\n",
    "# Count duplicates\n",
    "duplicates = df.duplicated().sum()\n",
    "print(f\"Number of duplicate rows: {duplicates}\")\n"
   ]
  },
  {
   "cell_type": "code",
   "execution_count": 8,
   "id": "d2033431-da9c-4b9c-9298-d2b2b4d253bd",
   "metadata": {},
   "outputs": [
    {
     "name": "stdout",
     "output_type": "stream",
     "text": [
      "Original shape: (284807, 31)\n",
      "Cleaned shape: (283017, 31)\n",
      "Fraud duplicates kept: 32\n",
      "Normal duplicates removed: 1822\n"
     ]
    }
   ],
   "source": [
    "duplicates = df[df.duplicated(keep=False)]\n",
    "\n",
    "# Separate duplicated rows by class\n",
    "fraud_duplicates = duplicates[duplicates['Class'] == 1]\n",
    "normal_duplicates = duplicates[duplicates['Class'] == 0]\n",
    "\n",
    "# Remove only duplicated rows of normal transactions\n",
    "# Keep duplicated fraud transactions to avoid losing rare fraud examples\n",
    "df_cleaned = pd.concat([\n",
    "    df.drop(normal_duplicates.index),\n",
    "    fraud_duplicates\n",
    "])\n",
    "\n",
    "print(\"Original shape:\", df.shape)\n",
    "print(\"Cleaned shape:\", df_cleaned.shape)\n",
    "print(\"Fraud duplicates kept:\", fraud_duplicates.shape[0])\n",
    "print(\"Normal duplicates removed:\", normal_duplicates.shape[0])"
   ]
  },
  {
   "cell_type": "code",
   "execution_count": 5,
   "id": "88e95d55-d6cd-44d8-8fa0-3429885d5a8f",
   "metadata": {},
   "outputs": [
    {
     "name": "stdout",
     "output_type": "stream",
     "text": [
      "Negative Amount values: 0\n",
      "Negative Time values: 0\n"
     ]
    }
   ],
   "source": [
    "# --- Cell 4: Check for inconsistent or incorrect values ---\n",
    "# Check for impossible values (example: negative Amounts or Time)\n",
    "print(\"Negative Amount values:\", (df_cleaned['Amount'] < 0).sum())\n",
    "print(\"Negative Time values:\", (df_cleaned['Time'] < 0).sum())\n"
   ]
  },
  {
   "cell_type": "code",
   "execution_count": 9,
   "id": "a7f22945-db7f-4625-9c0d-95c30a7d7d46",
   "metadata": {},
   "outputs": [
    {
     "name": "stdout",
     "output_type": "stream",
     "text": [
      "<class 'pandas.core.frame.DataFrame'>\n",
      "Index: 283017 entries, 0 to 234633\n",
      "Data columns (total 31 columns):\n",
      " #   Column  Non-Null Count   Dtype  \n",
      "---  ------  --------------   -----  \n",
      " 0   Time    283017 non-null  float64\n",
      " 1   V1      283017 non-null  float64\n",
      " 2   V2      283017 non-null  float64\n",
      " 3   V3      283017 non-null  float64\n",
      " 4   V4      283017 non-null  float64\n",
      " 5   V5      283017 non-null  float64\n",
      " 6   V6      283017 non-null  float64\n",
      " 7   V7      283017 non-null  float64\n",
      " 8   V8      283017 non-null  float64\n",
      " 9   V9      283017 non-null  float64\n",
      " 10  V10     283017 non-null  float64\n",
      " 11  V11     283017 non-null  float64\n",
      " 12  V12     283017 non-null  float64\n",
      " 13  V13     283017 non-null  float64\n",
      " 14  V14     283017 non-null  float64\n",
      " 15  V15     283017 non-null  float64\n",
      " 16  V16     283017 non-null  float64\n",
      " 17  V17     283017 non-null  float64\n",
      " 18  V18     283017 non-null  float64\n",
      " 19  V19     283017 non-null  float64\n",
      " 20  V20     283017 non-null  float64\n",
      " 21  V21     283017 non-null  float64\n",
      " 22  V22     283017 non-null  float64\n",
      " 23  V23     283017 non-null  float64\n",
      " 24  V24     283017 non-null  float64\n",
      " 25  V25     283017 non-null  float64\n",
      " 26  V26     283017 non-null  float64\n",
      " 27  V27     283017 non-null  float64\n",
      " 28  V28     283017 non-null  float64\n",
      " 29  Amount  283017 non-null  float64\n",
      " 30  Class   283017 non-null  int64  \n",
      "dtypes: float64(30), int64(1)\n",
      "memory usage: 69.1 MB\n",
      "None\n",
      "                Time             V1             V2             V3  \\\n",
      "count  283017.000000  283017.000000  283017.000000  283017.000000   \n",
      "mean    94815.217906       0.007795      -0.005001      -0.000307   \n",
      "std     47475.062312       1.950450       1.649514       1.523176   \n",
      "min         0.000000     -56.407510     -72.715728     -48.325589   \n",
      "25%     54221.000000      -0.913468      -0.601520      -0.889880   \n",
      "50%     84711.000000       0.021834       0.063162       0.179930   \n",
      "75%    139289.000000       1.316401       0.798317       1.026919   \n",
      "max    172792.000000       2.454930      22.057729       9.382558   \n",
      "\n",
      "                  V4             V5             V6             V7  \\\n",
      "count  283017.000000  283017.000000  283017.000000  283017.000000   \n",
      "mean       -0.003200       0.001555      -0.002022      -0.000167   \n",
      "std         1.416938       1.381974       1.333048       1.247208   \n",
      "min        -5.683171    -113.743307     -26.160506     -43.557242   \n",
      "25%        -0.850896      -0.688911      -0.769761      -0.551943   \n",
      "50%        -0.023234      -0.052977      -0.276040       0.041177   \n",
      "75%         0.738173       0.612593       0.395175       0.570539   \n",
      "max        16.875344      34.801666      73.301626     120.589494   \n",
      "\n",
      "                  V8             V9  ...            V21            V22  \\\n",
      "count  283017.000000  283017.000000  ...  283017.000000  283017.000000   \n",
      "mean       -0.003225      -0.003593  ...       0.000882      -0.000095   \n",
      "std         1.201633       1.096386  ...       0.744373       0.726721   \n",
      "min       -73.216718     -13.434066  ...     -34.830382     -10.933144   \n",
      "25%        -0.209054      -0.645622  ...      -0.228220      -0.542743   \n",
      "50%         0.021582      -0.053020  ...      -0.029280       0.007022   \n",
      "75%         0.324454       0.594769  ...       0.186329       0.528393   \n",
      "max        20.007208      15.594995  ...      27.202839      10.503090   \n",
      "\n",
      "                 V23            V24            V25            V26  \\\n",
      "count  283017.000000  283017.000000  283017.000000  283017.000000   \n",
      "mean        0.000533       0.000368      -0.000327       0.000355   \n",
      "std         0.624046       0.605567       0.521198       0.481927   \n",
      "min       -44.807735      -2.836627     -10.295397      -2.604551   \n",
      "25%        -0.161674      -0.354456      -0.317642      -0.326542   \n",
      "50%        -0.011178       0.041074       0.016208      -0.052124   \n",
      "75%         0.147776       0.439853       0.350653       0.239924   \n",
      "max        22.528412       4.584549       7.519589       3.517346   \n",
      "\n",
      "                 V27            V28         Amount          Class  \n",
      "count  283017.000000  283017.000000  283017.000000  283017.000000  \n",
      "mean        0.002653       0.000735      88.536410       0.001851  \n",
      "std         0.393525       0.327388     250.548701       0.042989  \n",
      "min       -22.565679     -15.430084       0.000000       0.000000  \n",
      "25%        -0.070468      -0.052751       5.570000       0.000000  \n",
      "50%         0.001567       0.011312      22.000000       0.000000  \n",
      "75%         0.091361       0.078294      77.720000       0.000000  \n",
      "max        31.612198      33.847808   25691.160000       1.000000  \n",
      "\n",
      "[8 rows x 31 columns]\n"
     ]
    }
   ],
   "source": [
    "# --- Cell 7: Final check and save cleaned data ---\n",
    "print(df_cleaned.info())\n",
    "print(df_cleaned.describe())\n",
    "\n",
    "# Save cleaned data for the next step\n",
    "df_cleaned.to_csv(\"/home/danial/Data Science/Fraud Detection/Data/cleaned/creditcard_cleaned.csv\", index=False)\n"
   ]
  },
  {
   "cell_type": "code",
   "execution_count": null,
   "id": "37e28b3f-7efd-482e-b4ef-cea085efd2ca",
   "metadata": {},
   "outputs": [],
   "source": []
  }
 ],
 "metadata": {
  "kernelspec": {
   "display_name": "Python (FDenv)",
   "language": "python",
   "name": "cpenv"
  },
  "language_info": {
   "codemirror_mode": {
    "name": "ipython",
    "version": 3
   },
   "file_extension": ".py",
   "mimetype": "text/x-python",
   "name": "python",
   "nbconvert_exporter": "python",
   "pygments_lexer": "ipython3",
   "version": "3.12.3"
  }
 },
 "nbformat": 4,
 "nbformat_minor": 5
}
