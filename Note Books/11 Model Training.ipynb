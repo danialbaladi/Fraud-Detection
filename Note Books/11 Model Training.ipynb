{
 "cells": [
  {
   "cell_type": "code",
   "execution_count": 1,
   "id": "dab3348d-d1c8-42bd-90b3-a8da98086215",
   "metadata": {},
   "outputs": [],
   "source": [
    "# Load train and validation sets and separate features & target\n",
    "import pandas as pd\n",
    "\n",
    "train = pd.read_csv('/home/danial/Data Science/Fraud Detection/Data/splits/train.csv')\n",
    "val = pd.read_csv('/home/danial/Data Science/Fraud Detection/Data/splits/validation.csv')\n",
    "\n",
    "X_train = train.drop('Class', axis=1)\n",
    "y_train = train['Class']\n",
    "\n",
    "X_val = val.drop('Class', axis=1)\n",
    "y_val = val['Class']\n"
   ]
  },
  {
   "cell_type": "code",
   "execution_count": 2,
   "id": "da5560ee-ca1d-4d43-b931-6c969ca35c02",
   "metadata": {},
   "outputs": [],
   "source": [
    "# Create Pipeline for Logistic Regression with scaling\n",
    "from sklearn.pipeline import Pipeline\n",
    "from sklearn.preprocessing import StandardScaler\n",
    "from sklearn.linear_model import LogisticRegression\n",
    "\n",
    "lr_pipeline = Pipeline([\n",
    "    ('scaler', StandardScaler()),   # Scale numeric features\n",
    "    ('classifier', LogisticRegression(max_iter=1000, random_state=42))\n",
    "])\n"
   ]
  },
  {
   "cell_type": "code",
   "execution_count": 3,
   "id": "63ff8284-15d3-4c08-8f42-20fb22c2bc29",
   "metadata": {},
   "outputs": [
    {
     "name": "stdout",
     "output_type": "stream",
     "text": [
      "Logistic Regression - Train Accuracy: 0.9992145192249186 F1-Score: 0.74822695035461\n",
      "Logistic Regression - Validation Accuracy: 0.9990707039417641 F1-Score: 0.7096774193548387\n"
     ]
    }
   ],
   "source": [
    "# Train Logistic Regression pipeline\n",
    "lr_pipeline.fit(X_train, y_train)\n",
    "\n",
    "# Predict on train and validation\n",
    "y_train_pred_lr = lr_pipeline.predict(X_train)\n",
    "y_val_pred_lr = lr_pipeline.predict(X_val)\n",
    "\n",
    "# Evaluate performance\n",
    "from sklearn.metrics import accuracy_score, f1_score\n",
    "\n",
    "print(\"Logistic Regression - Train Accuracy:\", accuracy_score(y_train, y_train_pred_lr),\n",
    "      \"F1-Score:\", f1_score(y_train, y_train_pred_lr))\n",
    "print(\"Logistic Regression - Validation Accuracy:\", accuracy_score(y_val, y_val_pred_lr),\n",
    "      \"F1-Score:\", f1_score(y_val, y_val_pred_lr))\n"
   ]
  },
  {
   "cell_type": "code",
   "execution_count": 4,
   "id": "e8922ea2-cff3-4cca-871e-6b4adcbc7bec",
   "metadata": {},
   "outputs": [
    {
     "name": "stdout",
     "output_type": "stream",
     "text": [
      "Decision Tree - Train Accuracy: 1.0 F1-Score: 1.0\n",
      "Decision Tree - Validation Accuracy: 0.9991739590593459 F1-Score: 0.7746478873239436\n"
     ]
    }
   ],
   "source": [
    "# Create Pipeline for Decision Tree (no scaling needed)\n",
    "from sklearn.tree import DecisionTreeClassifier\n",
    "\n",
    "dt_pipeline = Pipeline([\n",
    "    ('classifier', DecisionTreeClassifier(random_state=42))\n",
    "])\n",
    "\n",
    "# Train Decision Tree pipeline\n",
    "dt_pipeline.fit(X_train, y_train)\n",
    "\n",
    "# Predict on train and validation\n",
    "y_train_pred_dt = dt_pipeline.predict(X_train)\n",
    "y_val_pred_dt = dt_pipeline.predict(X_val)\n",
    "\n",
    "# Evaluate performance\n",
    "print(\"Decision Tree - Train Accuracy:\", accuracy_score(y_train, y_train_pred_dt),\n",
    "      \"F1-Score:\", f1_score(y_train, y_train_pred_dt))\n",
    "print(\"Decision Tree - Validation Accuracy:\", accuracy_score(y_val, y_val_pred_dt),\n",
    "      \"F1-Score:\", f1_score(y_val, y_val_pred_dt))\n"
   ]
  },
  {
   "cell_type": "code",
   "execution_count": 5,
   "id": "564e3ee0-0ff7-469f-ab8e-d6e679aa54d3",
   "metadata": {},
   "outputs": [
    {
     "data": {
      "text/plain": [
       "['/home/danial/Data Science/Fraud Detection/Models/dt_pipeline.pkl']"
      ]
     },
     "execution_count": 5,
     "metadata": {},
     "output_type": "execute_result"
    }
   ],
   "source": [
    "# Save trained pipelines for later use\n",
    "import joblib\n",
    "\n",
    "joblib.dump(lr_pipeline, '/home/danial/Data Science/Fraud Detection/Models/lr_pipeline.pkl')\n",
    "joblib.dump(dt_pipeline, '/home/danial/Data Science/Fraud Detection/Models/dt_pipeline.pkl')\n"
   ]
  },
  {
   "cell_type": "code",
   "execution_count": null,
   "id": "f40b3591-8e22-4d0b-955d-eedaed02c2cb",
   "metadata": {},
   "outputs": [],
   "source": []
  }
 ],
 "metadata": {
  "kernelspec": {
   "display_name": "Python (FDenv)",
   "language": "python",
   "name": "cpenv"
  },
  "language_info": {
   "codemirror_mode": {
    "name": "ipython",
    "version": 3
   },
   "file_extension": ".py",
   "mimetype": "text/x-python",
   "name": "python",
   "nbconvert_exporter": "python",
   "pygments_lexer": "ipython3",
   "version": "3.12.3"
  }
 },
 "nbformat": 4,
 "nbformat_minor": 5
}
