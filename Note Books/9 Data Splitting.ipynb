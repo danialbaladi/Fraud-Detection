{
 "cells": [
  {
   "cell_type": "code",
   "execution_count": 11,
   "id": "980b93fa-7c02-462f-b47c-749d75c36f60",
   "metadata": {},
   "outputs": [
    {
     "name": "stdout",
     "output_type": "stream",
     "text": [
      "(258259, 36)\n",
      "Class\n",
      "0    0.998176\n",
      "1    0.001824\n",
      "Name: proportion, dtype: float64\n"
     ]
    }
   ],
   "source": [
    "# Load preprocessed data and inspect class distribution\n",
    "import pandas as pd\n",
    "\n",
    "df = pd.read_csv('/home/danial/Data Science/Fraud Detection/Data/processed/preprocessed.csv')\n",
    "print(df.shape)\n",
    "print(df['Class'].value_counts(normalize=True))\n"
   ]
  },
  {
   "cell_type": "code",
   "execution_count": 12,
   "id": "3a1019b1-fe86-4388-bc3b-f28e50be374d",
   "metadata": {},
   "outputs": [
    {
     "name": "stdout",
     "output_type": "stream",
     "text": [
      "Train shape: (180781, 35) Temp shape: (77478, 35)\n",
      "Class\n",
      "0    0.998175\n",
      "1    0.001825\n",
      "Name: proportion, dtype: float64\n"
     ]
    }
   ],
   "source": [
    "# Split data into train and temp sets with stratification\n",
    "from sklearn.model_selection import train_test_split\n",
    "\n",
    "X = df.drop('Class', axis=1)\n",
    "y = df['Class']\n",
    "\n",
    "X_train, X_temp, y_train, y_temp = train_test_split(\n",
    "    X, y, test_size=0.3, random_state=42, stratify=y\n",
    ")\n",
    "\n",
    "print(\"Train shape:\", X_train.shape, \"Temp shape:\", X_temp.shape)\n",
    "print(y_train.value_counts(normalize=True))\n"
   ]
  },
  {
   "cell_type": "code",
   "execution_count": 13,
   "id": "24be8ee9-2510-48c4-896d-2e72794401e5",
   "metadata": {},
   "outputs": [
    {
     "name": "stdout",
     "output_type": "stream",
     "text": [
      "Validation shape: (38739, 35) Test shape: (38739, 35)\n",
      "Class\n",
      "0    0.998167\n",
      "1    0.001833\n",
      "Name: proportion, dtype: float64\n"
     ]
    }
   ],
   "source": [
    "# Split temp set into validation and test sets\n",
    "X_val, X_test, y_val, y_test = train_test_split(\n",
    "    X_temp, y_temp, test_size=0.5, random_state=42, stratify=y_temp\n",
    ")\n",
    "\n",
    "print(\"Validation shape:\", X_val.shape, \"Test shape:\", X_test.shape)\n",
    "print(y_val.value_counts(normalize=True))\n"
   ]
  },
  {
   "cell_type": "code",
   "execution_count": 14,
   "id": "c076af95-cf44-4f85-9911-de764130ee5a",
   "metadata": {},
   "outputs": [
    {
     "name": "stdout",
     "output_type": "stream",
     "text": [
      "Overlap Train-Validation: 0\n",
      "Overlap Train-Test: 0\n",
      "Overlap Validation-Test: 0\n"
     ]
    }
   ],
   "source": [
    "# Check for potential data leakage by overlapping indices\n",
    "train_idx = set(X_train.index)\n",
    "val_idx = set(X_val.index)\n",
    "test_idx = set(X_test.index)\n",
    "\n",
    "print(\"Overlap Train-Validation:\", len(train_idx & val_idx))\n",
    "print(\"Overlap Train-Test:\", len(train_idx & test_idx))\n",
    "print(\"Overlap Validation-Test:\", len(val_idx & test_idx))\n"
   ]
  },
  {
   "cell_type": "code",
   "execution_count": 17,
   "id": "c7e604a1-10ba-4e6d-b189-6849435c3712",
   "metadata": {},
   "outputs": [],
   "source": [
    "# Save the splits for later use\n",
    "X_train['Class'] = y_train\n",
    "X_val['Class'] = y_val\n",
    "X_test['Class'] = y_test\n",
    "\n",
    "X_train.to_csv('/home/danial/Data Science/Fraud Detection/Data/splits/train.csv', index=False)\n",
    "X_val.to_csv('/home/danial/Data Science/Fraud Detection/Data/splits/validation.csv', index=False)\n",
    "X_test.to_csv('/home/danial/Data Science/Fraud Detection/Data/splits/test.csv', index=False)\n"
   ]
  },
  {
   "cell_type": "code",
   "execution_count": null,
   "id": "3a0cff24-c160-4c85-989c-4d59c48a509d",
   "metadata": {},
   "outputs": [],
   "source": []
  }
 ],
 "metadata": {
  "kernelspec": {
   "display_name": "Python (FDenv)",
   "language": "python",
   "name": "cpenv"
  },
  "language_info": {
   "codemirror_mode": {
    "name": "ipython",
    "version": 3
   },
   "file_extension": ".py",
   "mimetype": "text/x-python",
   "name": "python",
   "nbconvert_exporter": "python",
   "pygments_lexer": "ipython3",
   "version": "3.12.3"
  }
 },
 "nbformat": 4,
 "nbformat_minor": 5
}
